{
 "cells": [
  {
   "cell_type": "markdown",
   "metadata": {},
   "source": [
    "# An Insight into the Apps in the Google Play Store"
   ]
  },
  {
   "cell_type": "markdown",
   "metadata": {},
   "source": [
    "INTRODUCTION:\n",
    "\n",
    "The ubiquitous usage of apps help individuals and businesses unlock extraordinary opportunities and reach their \n",
    "outcomes faster. The App market has been evolving rapidly for over a decade. While both the Google Play Store and the iTunes App Store platforms satisfy the same user needs, I  will be exploring the Google Play Store App dataset to find out why users download Google Store apps in a given category.\n",
    "\n",
    "INSPIRATION : \n",
    "\n",
    "When I switched from Android to Apple iOS in 2016, I encountered difficulties in downloading apps from the iTunes Store. Not only were the guidelines complicated, but it also required the use of an iCloud account to download apps from the iTunes App store. Additionally, I was completely locked out from my iCloud account. This prevented me from using the iTunes App Store. Unlike the iTunes Store, I find the Google Play app store much convenient and user-friendly. The Google Play Store App entails a wide variety of app choices and can easily be accessed through multiple devices. \n",
    "\n",
    "GOAL: \n",
    "\n",
    "Examine the performance of the different app features and analyze user engagement metrics in the Google Play Store. "
   ]
  },
  {
   "cell_type": "markdown",
   "metadata": {},
   "source": [
    "# Questions to Explore:\n",
    "    \n",
    "1. What are the most popular app categories in the Google Play Store?\n",
    "\n",
    "2. What is the most common app Type among users?\n",
    "\n",
    "3. How does user Reviews impact app downloads in the Google Play Store?\n"
   ]
  },
  {
   "cell_type": "markdown",
   "metadata": {},
   "source": [
    "# Libraries: \n",
    "\n",
    "I'd like to start off by importing the following packages: "
   ]
  },
  {
   "cell_type": "code",
   "execution_count": 3,
   "metadata": {},
   "outputs": [],
   "source": [
    "# Importing packages\n",
    "import pandas as pd\n",
    "import numpy as np\n",
    "import datetime as dt\n",
    "import scipy as sp\n",
    "import matplotlib.pyplot as plt\n",
    "%matplotlib inline "
   ]
  },
  {
   "cell_type": "markdown",
   "metadata": {},
   "source": [
    "The Pandas and NumPy modules are essential for data analysis in Python. NumPy's main feature is the ndarray class, a fast and efficient data structure object. Pandas is the core data science library for Python, providing the Series and DataFrame classes for flexible handling of large datasets.\n",
    "\n",
    "We, additionally, require the matplotlib library for data visualization. This Python plotting module integrates with the pandas and numpy modules to create beautiful images with data."
   ]
  },
  {
   "cell_type": "markdown",
   "metadata": {},
   "source": [
    "# A. Exploring The Dataset"
   ]
  },
  {
   "cell_type": "markdown",
   "metadata": {},
   "source": [
    "# The Dataset\n",
    "\n",
    "If you were to explore the dynamics of the Google Play Store, notice that each app is organized according to its inherent features. Each app is grouped into a specific category which provides the user an insight on how to browse the app. He can then further specify the app he is looking for according to his preference. For example, let's say you are looking for an app on Brain Games, the playstore captures the app from it's category and further specifies it according to its 'Genre'.\n",
    "\n",
    "Let's now take a look into the features of the Google Play Store and analyze the data further."
   ]
  },
  {
   "cell_type": "code",
   "execution_count": 4,
   "metadata": {},
   "outputs": [
    {
     "data": {
      "text/html": [
       "<div>\n",
       "<style scoped>\n",
       "    .dataframe tbody tr th:only-of-type {\n",
       "        vertical-align: middle;\n",
       "    }\n",
       "\n",
       "    .dataframe tbody tr th {\n",
       "        vertical-align: top;\n",
       "    }\n",
       "\n",
       "    .dataframe thead th {\n",
       "        text-align: right;\n",
       "    }\n",
       "</style>\n",
       "<table border=\"1\" class=\"dataframe\">\n",
       "  <thead>\n",
       "    <tr style=\"text-align: right;\">\n",
       "      <th></th>\n",
       "      <th>App</th>\n",
       "      <th>Category</th>\n",
       "      <th>Rating</th>\n",
       "      <th>Reviews</th>\n",
       "      <th>Size</th>\n",
       "      <th>Installs</th>\n",
       "      <th>Type</th>\n",
       "      <th>Price</th>\n",
       "      <th>Content Rating</th>\n",
       "      <th>Genres</th>\n",
       "      <th>Last Updated</th>\n",
       "      <th>Current Ver</th>\n",
       "      <th>Android Ver</th>\n",
       "    </tr>\n",
       "  </thead>\n",
       "  <tbody>\n",
       "    <tr>\n",
       "      <th>0</th>\n",
       "      <td>Photo Editor &amp; Candy Camera &amp; Grid &amp; ScrapBook</td>\n",
       "      <td>ART_AND_DESIGN</td>\n",
       "      <td>4.1</td>\n",
       "      <td>159</td>\n",
       "      <td>19M</td>\n",
       "      <td>10,000+</td>\n",
       "      <td>Free</td>\n",
       "      <td>0</td>\n",
       "      <td>Everyone</td>\n",
       "      <td>Art &amp; Design</td>\n",
       "      <td>January 7, 2018</td>\n",
       "      <td>1.0.0</td>\n",
       "      <td>4.0.3 and up</td>\n",
       "    </tr>\n",
       "    <tr>\n",
       "      <th>1</th>\n",
       "      <td>Coloring book moana</td>\n",
       "      <td>ART_AND_DESIGN</td>\n",
       "      <td>3.9</td>\n",
       "      <td>967</td>\n",
       "      <td>14M</td>\n",
       "      <td>500,000+</td>\n",
       "      <td>Free</td>\n",
       "      <td>0</td>\n",
       "      <td>Everyone</td>\n",
       "      <td>Art &amp; Design;Pretend Play</td>\n",
       "      <td>January 15, 2018</td>\n",
       "      <td>2.0.0</td>\n",
       "      <td>4.0.3 and up</td>\n",
       "    </tr>\n",
       "    <tr>\n",
       "      <th>2</th>\n",
       "      <td>U Launcher Lite – FREE Live Cool Themes, Hide ...</td>\n",
       "      <td>ART_AND_DESIGN</td>\n",
       "      <td>4.7</td>\n",
       "      <td>87510</td>\n",
       "      <td>8.7M</td>\n",
       "      <td>5,000,000+</td>\n",
       "      <td>Free</td>\n",
       "      <td>0</td>\n",
       "      <td>Everyone</td>\n",
       "      <td>Art &amp; Design</td>\n",
       "      <td>August 1, 2018</td>\n",
       "      <td>1.2.4</td>\n",
       "      <td>4.0.3 and up</td>\n",
       "    </tr>\n",
       "    <tr>\n",
       "      <th>3</th>\n",
       "      <td>Sketch - Draw &amp; Paint</td>\n",
       "      <td>ART_AND_DESIGN</td>\n",
       "      <td>4.5</td>\n",
       "      <td>215644</td>\n",
       "      <td>25M</td>\n",
       "      <td>50,000,000+</td>\n",
       "      <td>Free</td>\n",
       "      <td>0</td>\n",
       "      <td>Teen</td>\n",
       "      <td>Art &amp; Design</td>\n",
       "      <td>June 8, 2018</td>\n",
       "      <td>Varies with device</td>\n",
       "      <td>4.2 and up</td>\n",
       "    </tr>\n",
       "    <tr>\n",
       "      <th>4</th>\n",
       "      <td>Pixel Draw - Number Art Coloring Book</td>\n",
       "      <td>ART_AND_DESIGN</td>\n",
       "      <td>4.3</td>\n",
       "      <td>967</td>\n",
       "      <td>2.8M</td>\n",
       "      <td>100,000+</td>\n",
       "      <td>Free</td>\n",
       "      <td>0</td>\n",
       "      <td>Everyone</td>\n",
       "      <td>Art &amp; Design;Creativity</td>\n",
       "      <td>June 20, 2018</td>\n",
       "      <td>1.1</td>\n",
       "      <td>4.4 and up</td>\n",
       "    </tr>\n",
       "  </tbody>\n",
       "</table>\n",
       "</div>"
      ],
      "text/plain": [
       "                                                 App        Category  Rating  \\\n",
       "0     Photo Editor & Candy Camera & Grid & ScrapBook  ART_AND_DESIGN     4.1   \n",
       "1                                Coloring book moana  ART_AND_DESIGN     3.9   \n",
       "2  U Launcher Lite – FREE Live Cool Themes, Hide ...  ART_AND_DESIGN     4.7   \n",
       "3                              Sketch - Draw & Paint  ART_AND_DESIGN     4.5   \n",
       "4              Pixel Draw - Number Art Coloring Book  ART_AND_DESIGN     4.3   \n",
       "\n",
       "  Reviews  Size     Installs  Type Price Content Rating  \\\n",
       "0     159   19M      10,000+  Free     0       Everyone   \n",
       "1     967   14M     500,000+  Free     0       Everyone   \n",
       "2   87510  8.7M   5,000,000+  Free     0       Everyone   \n",
       "3  215644   25M  50,000,000+  Free     0           Teen   \n",
       "4     967  2.8M     100,000+  Free     0       Everyone   \n",
       "\n",
       "                      Genres      Last Updated         Current Ver  \\\n",
       "0               Art & Design   January 7, 2018               1.0.0   \n",
       "1  Art & Design;Pretend Play  January 15, 2018               2.0.0   \n",
       "2               Art & Design    August 1, 2018               1.2.4   \n",
       "3               Art & Design      June 8, 2018  Varies with device   \n",
       "4    Art & Design;Creativity     June 20, 2018                 1.1   \n",
       "\n",
       "    Android Ver  \n",
       "0  4.0.3 and up  \n",
       "1  4.0.3 and up  \n",
       "2  4.0.3 and up  \n",
       "3    4.2 and up  \n",
       "4    4.4 and up  "
      ]
     },
     "execution_count": 4,
     "metadata": {},
     "output_type": "execute_result"
    }
   ],
   "source": [
    "# Loading data from the csv file. \n",
    "playstore = pd.read_csv(\"googleplaystore.csv\")\n",
    "playstore.head()   "
   ]
  },
  {
   "cell_type": "markdown",
   "metadata": {},
   "source": [
    "The Google Play Store gives us an overview on how the app is performing. We can determine the performance of the app simply by looking at 'Rating', 'Reviews', and 'Installs' features.  Additionally, users are given the choice to decide the 'Type' of the app. While most of the apps are free, there are certain apps available for users at a price point. \n",
    "\n",
    "Users can then check the size of the app from the 'Size' feature. Size specifies the capacity a given app may take when downloading it to your device. Content Rating specifies the age groups of the rated apps.\n",
    "\n",
    "Next, let's explore the contents of the Google Play Store dataset."
   ]
  },
  {
   "cell_type": "code",
   "execution_count": 3,
   "metadata": {},
   "outputs": [
    {
     "name": "stdout",
     "output_type": "stream",
     "text": [
      "<class 'pandas.core.frame.DataFrame'>\n",
      "RangeIndex: 10841 entries, 0 to 10840\n",
      "Data columns (total 13 columns):\n",
      "App               10841 non-null object\n",
      "Category          10841 non-null object\n",
      "Rating            9367 non-null float64\n",
      "Reviews           10841 non-null object\n",
      "Size              10841 non-null object\n",
      "Installs          10841 non-null object\n",
      "Type              10840 non-null object\n",
      "Price             10841 non-null object\n",
      "Content Rating    10840 non-null object\n",
      "Genres            10841 non-null object\n",
      "Last Updated      10841 non-null object\n",
      "Current Ver       10833 non-null object\n",
      "Android Ver       10838 non-null object\n",
      "dtypes: float64(1), object(12)\n",
      "memory usage: 1.1+ MB\n"
     ]
    }
   ],
   "source": [
    "playstore.info() # This function gives a clear picture of the data in the dataset"
   ]
  },
  {
   "cell_type": "markdown",
   "metadata": {},
   "source": [
    "Since most of the datatypes appear to be objects, I will take the following steps in cleaning the dataset:\n",
    "\n",
    "- remove duplicates.\n",
    "- change 'Size' to numeric\n",
    "- remove the '+' and ',' signs in 'Installs'\n",
    "- remove the '$' in Price and convert it to a float\n",
    "- remove the Null values in the dataset\n",
    "- convert the 'Last Updated Date' string to datetime objects\n",
    "- convert datatypes of Installs and Reviews from object to integer values"
   ]
  },
  {
   "cell_type": "code",
   "execution_count": 4,
   "metadata": {},
   "outputs": [],
   "source": [
    "# Data Cleaning:\n",
    "\n",
    "#1 Removing duplicates.\n",
    "playstore = playstore.drop_duplicates(subset='App') \n",
    "playstore.dropna(inplace=True,subset=['Type','Content Rating','Current Ver','Android Ver'])  "
   ]
  },
  {
   "cell_type": "code",
   "execution_count": 5,
   "metadata": {},
   "outputs": [],
   "source": [
    "#2 Data Cleaning for Size: \n",
    "playstore['Size'] = playstore['Size'].map(lambda x: x.rstrip('M'))\n",
    "playstore['Size'] = playstore['Size'].map(lambda x: x.rstrip('K'))\n",
    "\n",
    "#3 Data Cleaning for Installs: Removing '+'\n",
    "playstore['Installs'] = playstore['Installs'].map(lambda x: x.rstrip('+')) \n",
    "playstore['Installs'] = playstore['Installs'].str.replace(',', '')\n",
    "\n",
    "#4 Data Cleaning for Price:\n",
    "playstore['Price'] = playstore['Price'].map(lambda x: x.lstrip('$').rstrip())\n",
    "playstore['Price'] = playstore.Price.astype(float) \n",
    "\n",
    "#5 Removing the null values from the Play Store dataset.\n",
    "playstore = playstore[~(playstore.Rating.isnull())] \n",
    "\n",
    "#6 Converting the Last Updated date strings to Datetime objects\n",
    "playstore['Last Updated'] = pd.to_datetime(playstore['Last Updated']) "
   ]
  },
  {
   "cell_type": "code",
   "execution_count": 6,
   "metadata": {},
   "outputs": [],
   "source": [
    "#7 Convert Installs and Reviews into Integer\n",
    "playstore['Installs'] = playstore.Installs.astype(int) \n",
    "playstore['Reviews'] = playstore.Reviews.astype(int)   "
   ]
  },
  {
   "cell_type": "markdown",
   "metadata": {},
   "source": [
    "Here's a clean view of my dataset after peforming the above functions."
   ]
  },
  {
   "cell_type": "code",
   "execution_count": 7,
   "metadata": {
    "scrolled": true
   },
   "outputs": [
    {
     "data": {
      "text/html": [
       "<div>\n",
       "<style scoped>\n",
       "    .dataframe tbody tr th:only-of-type {\n",
       "        vertical-align: middle;\n",
       "    }\n",
       "\n",
       "    .dataframe tbody tr th {\n",
       "        vertical-align: top;\n",
       "    }\n",
       "\n",
       "    .dataframe thead th {\n",
       "        text-align: right;\n",
       "    }\n",
       "</style>\n",
       "<table border=\"1\" class=\"dataframe\">\n",
       "  <thead>\n",
       "    <tr style=\"text-align: right;\">\n",
       "      <th></th>\n",
       "      <th>App</th>\n",
       "      <th>Category</th>\n",
       "      <th>Rating</th>\n",
       "      <th>Reviews</th>\n",
       "      <th>Size</th>\n",
       "      <th>Installs</th>\n",
       "      <th>Type</th>\n",
       "      <th>Price</th>\n",
       "      <th>Content Rating</th>\n",
       "      <th>Genres</th>\n",
       "      <th>Last Updated</th>\n",
       "      <th>Current Ver</th>\n",
       "      <th>Android Ver</th>\n",
       "    </tr>\n",
       "  </thead>\n",
       "  <tbody>\n",
       "    <tr>\n",
       "      <th>0</th>\n",
       "      <td>Photo Editor &amp; Candy Camera &amp; Grid &amp; ScrapBook</td>\n",
       "      <td>ART_AND_DESIGN</td>\n",
       "      <td>4.1</td>\n",
       "      <td>159</td>\n",
       "      <td>19</td>\n",
       "      <td>10000</td>\n",
       "      <td>Free</td>\n",
       "      <td>0.0</td>\n",
       "      <td>Everyone</td>\n",
       "      <td>Art &amp; Design</td>\n",
       "      <td>2018-01-07</td>\n",
       "      <td>1.0.0</td>\n",
       "      <td>4.0.3 and up</td>\n",
       "    </tr>\n",
       "    <tr>\n",
       "      <th>1</th>\n",
       "      <td>Coloring book moana</td>\n",
       "      <td>ART_AND_DESIGN</td>\n",
       "      <td>3.9</td>\n",
       "      <td>967</td>\n",
       "      <td>14</td>\n",
       "      <td>500000</td>\n",
       "      <td>Free</td>\n",
       "      <td>0.0</td>\n",
       "      <td>Everyone</td>\n",
       "      <td>Art &amp; Design;Pretend Play</td>\n",
       "      <td>2018-01-15</td>\n",
       "      <td>2.0.0</td>\n",
       "      <td>4.0.3 and up</td>\n",
       "    </tr>\n",
       "    <tr>\n",
       "      <th>2</th>\n",
       "      <td>U Launcher Lite – FREE Live Cool Themes, Hide ...</td>\n",
       "      <td>ART_AND_DESIGN</td>\n",
       "      <td>4.7</td>\n",
       "      <td>87510</td>\n",
       "      <td>8.7</td>\n",
       "      <td>5000000</td>\n",
       "      <td>Free</td>\n",
       "      <td>0.0</td>\n",
       "      <td>Everyone</td>\n",
       "      <td>Art &amp; Design</td>\n",
       "      <td>2018-08-01</td>\n",
       "      <td>1.2.4</td>\n",
       "      <td>4.0.3 and up</td>\n",
       "    </tr>\n",
       "    <tr>\n",
       "      <th>3</th>\n",
       "      <td>Sketch - Draw &amp; Paint</td>\n",
       "      <td>ART_AND_DESIGN</td>\n",
       "      <td>4.5</td>\n",
       "      <td>215644</td>\n",
       "      <td>25</td>\n",
       "      <td>50000000</td>\n",
       "      <td>Free</td>\n",
       "      <td>0.0</td>\n",
       "      <td>Teen</td>\n",
       "      <td>Art &amp; Design</td>\n",
       "      <td>2018-06-08</td>\n",
       "      <td>Varies with device</td>\n",
       "      <td>4.2 and up</td>\n",
       "    </tr>\n",
       "    <tr>\n",
       "      <th>4</th>\n",
       "      <td>Pixel Draw - Number Art Coloring Book</td>\n",
       "      <td>ART_AND_DESIGN</td>\n",
       "      <td>4.3</td>\n",
       "      <td>967</td>\n",
       "      <td>2.8</td>\n",
       "      <td>100000</td>\n",
       "      <td>Free</td>\n",
       "      <td>0.0</td>\n",
       "      <td>Everyone</td>\n",
       "      <td>Art &amp; Design;Creativity</td>\n",
       "      <td>2018-06-20</td>\n",
       "      <td>1.1</td>\n",
       "      <td>4.4 and up</td>\n",
       "    </tr>\n",
       "  </tbody>\n",
       "</table>\n",
       "</div>"
      ],
      "text/plain": [
       "                                                 App        Category  Rating  \\\n",
       "0     Photo Editor & Candy Camera & Grid & ScrapBook  ART_AND_DESIGN     4.1   \n",
       "1                                Coloring book moana  ART_AND_DESIGN     3.9   \n",
       "2  U Launcher Lite – FREE Live Cool Themes, Hide ...  ART_AND_DESIGN     4.7   \n",
       "3                              Sketch - Draw & Paint  ART_AND_DESIGN     4.5   \n",
       "4              Pixel Draw - Number Art Coloring Book  ART_AND_DESIGN     4.3   \n",
       "\n",
       "   Reviews Size  Installs  Type  Price Content Rating  \\\n",
       "0      159   19     10000  Free    0.0       Everyone   \n",
       "1      967   14    500000  Free    0.0       Everyone   \n",
       "2    87510  8.7   5000000  Free    0.0       Everyone   \n",
       "3   215644   25  50000000  Free    0.0           Teen   \n",
       "4      967  2.8    100000  Free    0.0       Everyone   \n",
       "\n",
       "                      Genres Last Updated         Current Ver   Android Ver  \n",
       "0               Art & Design   2018-01-07               1.0.0  4.0.3 and up  \n",
       "1  Art & Design;Pretend Play   2018-01-15               2.0.0  4.0.3 and up  \n",
       "2               Art & Design   2018-08-01               1.2.4  4.0.3 and up  \n",
       "3               Art & Design   2018-06-08  Varies with device    4.2 and up  \n",
       "4    Art & Design;Creativity   2018-06-20                 1.1    4.4 and up  "
      ]
     },
     "execution_count": 7,
     "metadata": {},
     "output_type": "execute_result"
    }
   ],
   "source": [
    "playstore.head()"
   ]
  },
  {
   "cell_type": "markdown",
   "metadata": {},
   "source": [
    "Now that we have a clean set of data of the Google Play Store, let's explore the dimensions of the Google Play Store dataset. "
   ]
  },
  {
   "cell_type": "code",
   "execution_count": 8,
   "metadata": {},
   "outputs": [
    {
     "data": {
      "text/plain": [
       "(8190, 13)"
      ]
     },
     "execution_count": 8,
     "metadata": {},
     "output_type": "execute_result"
    }
   ],
   "source": [
    "playstore.shape # Returns the dimensions of the dataset. "
   ]
  },
  {
   "cell_type": "markdown",
   "metadata": {},
   "source": [
    "# Statistical Analysis"
   ]
  },
  {
   "cell_type": "markdown",
   "metadata": {},
   "source": [
    "Let us now use descriptive statistics to get an insight into the quantitative features of the Google \n",
    "Play store. "
   ]
  },
  {
   "cell_type": "code",
   "execution_count": 9,
   "metadata": {},
   "outputs": [
    {
     "data": {
      "text/html": [
       "<div>\n",
       "<style scoped>\n",
       "    .dataframe tbody tr th:only-of-type {\n",
       "        vertical-align: middle;\n",
       "    }\n",
       "\n",
       "    .dataframe tbody tr th {\n",
       "        vertical-align: top;\n",
       "    }\n",
       "\n",
       "    .dataframe thead th {\n",
       "        text-align: right;\n",
       "    }\n",
       "</style>\n",
       "<table border=\"1\" class=\"dataframe\">\n",
       "  <thead>\n",
       "    <tr style=\"text-align: right;\">\n",
       "      <th></th>\n",
       "      <th>Rating</th>\n",
       "      <th>Reviews</th>\n",
       "      <th>Installs</th>\n",
       "      <th>Price</th>\n",
       "    </tr>\n",
       "  </thead>\n",
       "  <tbody>\n",
       "    <tr>\n",
       "      <th>count</th>\n",
       "      <td>8190.000000</td>\n",
       "      <td>8.190000e+03</td>\n",
       "      <td>8.190000e+03</td>\n",
       "      <td>8190.000000</td>\n",
       "    </tr>\n",
       "    <tr>\n",
       "      <th>mean</th>\n",
       "      <td>4.173321</td>\n",
       "      <td>2.554354e+05</td>\n",
       "      <td>9.171613e+06</td>\n",
       "      <td>1.038342</td>\n",
       "    </tr>\n",
       "    <tr>\n",
       "      <th>std</th>\n",
       "      <td>0.536691</td>\n",
       "      <td>1.986309e+06</td>\n",
       "      <td>5.827170e+07</td>\n",
       "      <td>16.864040</td>\n",
       "    </tr>\n",
       "    <tr>\n",
       "      <th>min</th>\n",
       "      <td>1.000000</td>\n",
       "      <td>1.000000e+00</td>\n",
       "      <td>1.000000e+00</td>\n",
       "      <td>0.000000</td>\n",
       "    </tr>\n",
       "    <tr>\n",
       "      <th>25%</th>\n",
       "      <td>4.000000</td>\n",
       "      <td>1.260000e+02</td>\n",
       "      <td>1.000000e+04</td>\n",
       "      <td>0.000000</td>\n",
       "    </tr>\n",
       "    <tr>\n",
       "      <th>50%</th>\n",
       "      <td>4.300000</td>\n",
       "      <td>3.009500e+03</td>\n",
       "      <td>1.000000e+05</td>\n",
       "      <td>0.000000</td>\n",
       "    </tr>\n",
       "    <tr>\n",
       "      <th>75%</th>\n",
       "      <td>4.500000</td>\n",
       "      <td>4.391425e+04</td>\n",
       "      <td>1.000000e+06</td>\n",
       "      <td>0.000000</td>\n",
       "    </tr>\n",
       "    <tr>\n",
       "      <th>max</th>\n",
       "      <td>5.000000</td>\n",
       "      <td>7.815831e+07</td>\n",
       "      <td>1.000000e+09</td>\n",
       "      <td>400.000000</td>\n",
       "    </tr>\n",
       "  </tbody>\n",
       "</table>\n",
       "</div>"
      ],
      "text/plain": [
       "            Rating       Reviews      Installs        Price\n",
       "count  8190.000000  8.190000e+03  8.190000e+03  8190.000000\n",
       "mean      4.173321  2.554354e+05  9.171613e+06     1.038342\n",
       "std       0.536691  1.986309e+06  5.827170e+07    16.864040\n",
       "min       1.000000  1.000000e+00  1.000000e+00     0.000000\n",
       "25%       4.000000  1.260000e+02  1.000000e+04     0.000000\n",
       "50%       4.300000  3.009500e+03  1.000000e+05     0.000000\n",
       "75%       4.500000  4.391425e+04  1.000000e+06     0.000000\n",
       "max       5.000000  7.815831e+07  1.000000e+09   400.000000"
      ]
     },
     "execution_count": 9,
     "metadata": {},
     "output_type": "execute_result"
    }
   ],
   "source": [
    "# Conducting Summary Statistics: \n",
    "playstore.describe()    "
   ]
  },
  {
   "cell_type": "markdown",
   "metadata": {},
   "source": [
    "The statistics above illustrate the important measures of central tendency. In this report, I will describe one of the variables in the Google Play Store (Rating). As shown above, the average rating for an app is 4.17. This is a really good Rating as it implies that on average users are happy about the performance of a given app. Next, the median describes the value separating the higher half from the lower half. In other words, it is the value that lies in the middle. Notice the rise of apps from 4.0 to 4.5 on the histogram(below). Since the median is 4.3, it is evident that apps are rated fairly well in the Google Play Store.\n",
    "\n",
    "To illustrate further, let us now visualize the shape of the data in Rating using two graphs. "
   ]
  },
  {
   "cell_type": "code",
   "execution_count": 10,
   "metadata": {
    "scrolled": true
   },
   "outputs": [
    {
     "data": {
      "image/png": "[encoded data removed]",
      "text/plain": [
       "<Figure size 432x288 with 1 Axes>"
      ]
     },
     "metadata": {
      "needs_background": "light"
     },
     "output_type": "display_data"
    }
   ],
   "source": [
    "# Assessing the Shape and spread of the Google Play Store dataset through a histogram.\n",
    "playstore.hist(column=\"Rating\") \n",
    "plt.xlabel(\"Rating\")  \n",
    "plt.ylabel(\"Apps\")\n",
    "plt.show() "
   ]
  },
  {
   "cell_type": "code",
   "execution_count": 11,
   "metadata": {},
   "outputs": [
    {
     "data": {
      "image/png": "[encoded data removed]",
      "text/plain": [
       "<Figure size 432x288 with 1 Axes>"
      ]
     },
     "metadata": {
      "needs_background": "light"
     },
     "output_type": "display_data"
    }
   ],
   "source": [
    "# Plot a boxplot\n",
    "playstore.boxplot(\"Rating\") \n",
    "plt.show() "
   ]
  },
  {
   "cell_type": "markdown",
   "metadata": {},
   "source": [
    "I created the histogram to get a sense of the shape of the distribution of Rating. Notice, the tail to the left of the histogram. The data in the histogram are left-skewed because the mean is smaller than the median (4.1 < 4.3). In a left-skewed distribution, there appears to be a long tail in the negative direction of the Rating. It is also evident that not many apps are rated poorly (below 3.0) in the Google Play Store.\n",
    "\n",
    "The Box Plot, on the other hand, tells us about the spread of values of  Rating in our dataset. There are a few outliers below the lower whisker in our boxplot. An outlier in distribution is a data point that is located outside the whiskers. Our visualization informs us that certain apps are rated below 3.3 in the Google Play Store."
   ]
  },
  {
   "cell_type": "markdown",
   "metadata": {},
   "source": [
    "I will now compute the variance to see how far the set of numbers are spread out from its average. "
   ]
  },
  {
   "cell_type": "code",
   "execution_count": 12,
   "metadata": {
    "scrolled": true
   },
   "outputs": [
    {
     "data": {
      "text/plain": [
       "Rating      2.880377e-01\n",
       "Reviews     3.945425e+12\n",
       "Installs    3.395591e+15\n",
       "Price       2.843958e+02\n",
       "dtype: float64"
      ]
     },
     "execution_count": 12,
     "metadata": {},
     "output_type": "execute_result"
    }
   ],
   "source": [
    "playstore.var(axis=0) # Calculating the variance of the features."
   ]
  },
  {
   "cell_type": "markdown",
   "metadata": {},
   "source": [
    "The variance for Rating is 0.029 meaning it is slightly spread out from the average(mean) of Rating."
   ]
  },
  {
   "cell_type": "markdown",
   "metadata": {},
   "source": [
    "# Student's t-Test\n",
    "\n",
    "The Student’s t-test compares two averages (means) and informs if they are different from each other. It tells us how significant the differences are. \n",
    "\n",
    "Here, I will test the metrics for significant differences in the mean between Reviews and Installs. A significant difference may indicate that the metric is important. Additionally, the average of each app reviewed in the Google Play Store will be compared to the average number of apps installed. These comparisons are made for every statistics in the Play Store.\n",
    "\n",
    "Although the app Reviews and Installs are not normally distributed, I chose to apply the popular Student's t-test to compare the sample means of Reviews and Installs metrics because the large sample sizes in the Google Playstore dataset may mean that the t-statistic will be a very good approximation.\n",
    "\n",
    "Let me start by defining the hypotheses: \n",
    "\n",
    "- Null Hypothesis: There is no relationship between app Reviews and Installs.\n",
    "- Alternative Hypothesis: There is a relationship between app Reviews and Installs.\n",
    "\n",
    "In constructing the t-Test I will make the following assumptions:\n",
    "\n",
    "- The observations are independent\n",
    "- The Confidence Level(Sigma) is 0.05"
   ]
  },
  {
   "cell_type": "code",
   "execution_count": 13,
   "metadata": {},
   "outputs": [
    {
     "name": "stdout",
     "output_type": "stream",
     "text": [
      "Mean\n",
      "(255435.43907203907, 9171612.861782663)\n",
      "Standard Deviation\n",
      "(1986309.4786981614, 58271701.779508986)\n"
     ]
    }
   ],
   "source": [
    "# Caluculating the mean of Reviews and Installs\n",
    "print(\"Mean\")\n",
    "mean1 = playstore.loc[:,\"Reviews\"].mean()\n",
    "mean2 = playstore.loc[:,\"Installs\"].mean() \n",
    "print(mean1, mean2)\n",
    "\n",
    "print(\"Standard Deviation\")\n",
    "std1 = playstore.loc[:,\"Reviews\"].std()\n",
    "std2 = playstore.loc[:,\"Installs\"].std()\n",
    "print(std1, std2)"
   ]
  },
  {
   "cell_type": "code",
   "execution_count": 14,
   "metadata": {},
   "outputs": [
    {
     "data": {
      "text/plain": [
       "Ttest_indResult(statistic=-2.655436420830131, pvalue=0.007928251684936256)"
      ]
     },
     "execution_count": 14,
     "metadata": {},
     "output_type": "execute_result"
    }
   ],
   "source": [
    "from scipy.stats import ttest_ind_from_stats\n",
    "\n",
    "ttest_ind_from_stats(mean1=255435.43907203907, std1=9171612.861782663, nobs1=8190,\n",
    "                     mean2=1986309.4786981614, std2=58271701.779508986, nobs2=8190)"
   ]
  },
  {
   "cell_type": "markdown",
   "metadata": {},
   "source": [
    "The t-Test results are evaluated by taking into account the p-value. In statistical hypothesis testing, p-value weighs the strength of the evidence gathered through our data so that we can determine which claim is true. The p-value is a number between 0 and 1 and any value which falls below the confidence interval should be rejected.\n",
    "\n",
    "In evaluating our statistics on Reviews and Installs it is evident that the probability value(p-value=0.0079) is below the significance level(0.05). Given that the p-value is below our level of significance(p ≤ 0.05), the null hypothesis should be rejected. In other words, it is statistically significant that there is a relationship between app Reviews and Installs."
   ]
  },
  {
   "cell_type": "markdown",
   "metadata": {},
   "source": [
    "# B. Analytic Questions"
   ]
  },
  {
   "cell_type": "markdown",
   "metadata": {},
   "source": [
    "# What are the most popular app categories in the Google Play Store?"
   ]
  },
  {
   "cell_type": "markdown",
   "metadata": {},
   "source": [
    "Let's now explore the app categories in the Google Play Store and then see how they are rated. My goal here is to find the top-rated app categories in the Google Play Store."
   ]
  },
  {
   "cell_type": "code",
   "execution_count": 15,
   "metadata": {},
   "outputs": [
    {
     "data": {
      "text/plain": [
       "array(['FAMILY', 'GAME', 'TOOLS', 'FINANCE', 'PRODUCTIVITY', 'LIFESTYLE',\n",
       "       'PERSONALIZATION', 'MEDICAL', 'PHOTOGRAPHY', 'BUSINESS', 'SPORTS',\n",
       "       'COMMUNICATION', 'HEALTH_AND_FITNESS', 'NEWS_AND_MAGAZINES',\n",
       "       'SOCIAL', 'TRAVEL_AND_LOCAL', 'SHOPPING', 'BOOKS_AND_REFERENCE',\n",
       "       'VIDEO_PLAYERS', 'DATING', 'EDUCATION', 'MAPS_AND_NAVIGATION',\n",
       "       'ENTERTAINMENT', 'FOOD_AND_DRINK', 'AUTO_AND_VEHICLES', 'WEATHER',\n",
       "       'LIBRARIES_AND_DEMO', 'HOUSE_AND_HOME', 'ART_AND_DESIGN', 'COMICS',\n",
       "       'PARENTING', 'EVENTS', 'BEAUTY'], dtype=object)"
      ]
     },
     "execution_count": 15,
     "metadata": {},
     "output_type": "execute_result"
    }
   ],
   "source": [
    "# What categories are available in the Google Play Store? \n",
    "\n",
    "Category = playstore['Category'].value_counts().index.values\n",
    "Category "
   ]
  },
  {
   "cell_type": "code",
   "execution_count": 16,
   "metadata": {},
   "outputs": [
    {
     "data": {
      "text/plain": [
       "FAMILY                 1607\n",
       "GAME                    912\n",
       "TOOLS                   717\n",
       "FINANCE                 302\n",
       "PRODUCTIVITY            301\n",
       "LIFESTYLE               301\n",
       "PERSONALIZATION         296\n",
       "MEDICAL                 290\n",
       "PHOTOGRAPHY             263\n",
       "BUSINESS                263\n",
       "SPORTS                  260\n",
       "COMMUNICATION           256\n",
       "HEALTH_AND_FITNESS      244\n",
       "NEWS_AND_MAGAZINES      204\n",
       "SOCIAL                  203\n",
       "TRAVEL_AND_LOCAL        187\n",
       "SHOPPING                180\n",
       "BOOKS_AND_REFERENCE     169\n",
       "VIDEO_PLAYERS           148\n",
       "DATING                  134\n",
       "EDUCATION               118\n",
       "MAPS_AND_NAVIGATION     118\n",
       "ENTERTAINMENT           102\n",
       "FOOD_AND_DRINK           94\n",
       "AUTO_AND_VEHICLES        73\n",
       "WEATHER                  72\n",
       "LIBRARIES_AND_DEMO       63\n",
       "HOUSE_AND_HOME           62\n",
       "ART_AND_DESIGN           60\n",
       "COMICS                   54\n",
       "PARENTING                50\n",
       "EVENTS                   45\n",
       "BEAUTY                   42\n",
       "Name: Category, dtype: int64"
      ]
     },
     "execution_count": 16,
     "metadata": {},
     "output_type": "execute_result"
    }
   ],
   "source": [
    "# What is the app count in each Category?\n",
    "\n",
    "count = playstore.Category.value_counts()  # Function returns the total number of apps used in each category.\n",
    "count "
   ]
  },
  {
   "cell_type": "code",
   "execution_count": 17,
   "metadata": {},
   "outputs": [
    {
     "data": {
      "text/plain": [
       "array([4.3, 4.4, 4.5, 4.2, 4.6, 4.1, 4. , 4.7, 3.9, 3.8, 5. , 3.7, 4.8,\n",
       "       3.6, 3.5, 3.4, 3.3, 4.9, 3. , 3.1, 3.2, 2.9, 2.8, 2.6, 2.7, 2.3,\n",
       "       2.5, 2.4, 1. , 2.2, 2. , 1.9, 1.8, 1.7, 2.1, 1.6, 1.4, 1.5, 1.2])"
      ]
     },
     "execution_count": 17,
     "metadata": {},
     "output_type": "execute_result"
    }
   ],
   "source": [
    "# What are the ratings per category?\n",
    "Rating = playstore.Rating.value_counts('Category').index.values \n",
    "Rating"
   ]
  },
  {
   "cell_type": "code",
   "execution_count": 18,
   "metadata": {
    "scrolled": true
   },
   "outputs": [
    {
     "data": {
      "text/plain": [
       "Category  Rating\n",
       "FAMILY    4.3       177\n",
       "          4.4       164\n",
       "          4.5       158\n",
       "          4.2       151\n",
       "          4.6       132\n",
       "GAME      4.3       129\n",
       "          4.4       122\n",
       "          4.5       122\n",
       "FAMILY    4.1       118\n",
       "GAME      4.2       105\n",
       "dtype: int64"
      ]
     },
     "execution_count": 18,
     "metadata": {},
     "output_type": "execute_result"
    }
   ],
   "source": [
    "# What are the top rated apps according to Category and Rating?\n",
    "playstore.groupby(['Category','Rating']).size().nlargest(10).transpose()"
   ]
  },
  {
   "cell_type": "code",
   "execution_count": 19,
   "metadata": {},
   "outputs": [
    {
     "name": "stdout",
     "output_type": "stream",
     "text": [
      "count\n",
      "top_apps\n"
     ]
    },
    {
     "data": {
      "text/plain": [
       "FAMILY          1607\n",
       "GAME             912\n",
       "TOOLS            717\n",
       "FINANCE          302\n",
       "PRODUCTIVITY     301\n",
       "Name: Category, dtype: int64"
      ]
     },
     "execution_count": 19,
     "metadata": {},
     "output_type": "execute_result"
    }
   ],
   "source": [
    "# What is the app count in each Category?\n",
    "print(\"count\")\n",
    "count = playstore.Category.value_counts()  # Function returns the total number of apps used in each category.\n",
    "count\n",
    "\n",
    "# What categories include the highest rated app?\n",
    "print(\"top_apps\")\n",
    "top_apps = count.nlargest().head()\n",
    "top_apps"
   ]
  },
  {
   "cell_type": "code",
   "execution_count": 20,
   "metadata": {},
   "outputs": [
    {
     "data": {
      "image/png": "[encoded data removed]",
      "text/plain": [
       "<Figure size 432x288 with 1 Axes>"
      ]
     },
     "metadata": {},
     "output_type": "display_data"
    }
   ],
   "source": [
    "# Plotting the top rated app categories.\n",
    "\n",
    "labels = top_apps.index.values\n",
    "num_apps = top_apps.values\n",
    "\n",
    "fig1, ax1 = plt.subplots()\n",
    "ax1.pie(num_apps, labels=labels, autopct='%1.1f%%',\n",
    "        shadow=True, startangle=100)\n",
    "ax1.axis('equal')  # Equal aspect ratio ensures that pie is drawn as a circle.\n",
    "\n",
    "plt.show()\n"
   ]
  },
  {
   "cell_type": "markdown",
   "metadata": {},
   "source": [
    "Our data reveal that the top-rated app categories include Family, Game, Tools, Finance, and Productivity. The data informs us that more than 1500 apps have been rated in the 'Family' app category. "
   ]
  },
  {
   "cell_type": "markdown",
   "metadata": {},
   "source": [
    "# What is the most common app Type among users?"
   ]
  },
  {
   "cell_type": "markdown",
   "metadata": {},
   "source": [
    "Let's learn about the app types in the Google Play Store:"
   ]
  },
  {
   "cell_type": "code",
   "execution_count": 21,
   "metadata": {},
   "outputs": [
    {
     "data": {
      "text/plain": [
       "array(['Free', 'Paid'], dtype=object)"
      ]
     },
     "execution_count": 21,
     "metadata": {},
     "output_type": "execute_result"
    }
   ],
   "source": [
    "# What Type of apps are currently available in the Google Play Store?\n",
    "\n",
    "playstore['Type'].unique() "
   ]
  },
  {
   "cell_type": "markdown",
   "metadata": {},
   "source": [
    "The Google Play Store consist of both free and paid apps. Now, let's determine the number of Free apps and Paid apps."
   ]
  },
  {
   "cell_type": "code",
   "execution_count": 22,
   "metadata": {
    "scrolled": true
   },
   "outputs": [
    {
     "data": {
      "text/plain": [
       "Free    7588\n",
       "Paid     602\n",
       "Name: Type, dtype: int64"
      ]
     },
     "execution_count": 22,
     "metadata": {},
     "output_type": "execute_result"
    }
   ],
   "source": [
    "# How many apps are Free vs Paid in the Google Play Store?\n",
    "\n",
    "Type = ['Free', 'Paid']\n",
    "\n",
    "count = playstore.Type.value_counts() \n",
    "count"
   ]
  },
  {
   "cell_type": "code",
   "execution_count": 23,
   "metadata": {},
   "outputs": [
    {
     "data": {
      "text/plain": [
       "Free    92.649573\n",
       "Paid     7.350427\n",
       "Name: Type, dtype: float64"
      ]
     },
     "execution_count": 23,
     "metadata": {},
     "output_type": "execute_result"
    }
   ],
   "source": [
    "# What is the percentage of Free vs Paid apps: \n",
    "app_type = playstore['Type'].value_counts(normalize=True) * 100\n",
    "app_type "
   ]
  },
  {
   "cell_type": "code",
   "execution_count": 24,
   "metadata": {},
   "outputs": [
    {
     "data": {
      "image/png": "[encoded data removed]",
      "text/plain": [
       "<Figure size 1440x1440 with 1 Axes>"
      ]
     },
     "metadata": {
      "needs_background": "light"
     },
     "output_type": "display_data"
    }
   ],
   "source": [
    "# Plots the total number of Free and Paid apps according to Categories.\n",
    "\n",
    "fvp = playstore.groupby(['Category','Type']).count()[['App']].reset_index().sort_values(by=\"App\",ascending = False)\n",
    "plt.figure(figsize=(20,20))\n",
    "ax=plt.subplot(221)\n",
    "plt.title(\"Free vs Paid (App_count)\") \n",
    "g=sns.catplot(x=\"App\", y=\"Category\",kind=\"bar\", hue=\"Type\", ax=ax,data=fvp)\n",
    "plt.close(2) "
   ]
  },
  {
   "cell_type": "markdown",
   "metadata": {},
   "source": [
    "Google Play Store groups the apps into two types Free vs Paid. 92.6% of users have been using Free apps in the Google Play Store, which means that there is a high demand for the apps that are relatively free in the Google Play Store. Family, Game, and Tools app categories contain the highest number of Free apps. "
   ]
  },
  {
   "cell_type": "markdown",
   "metadata": {},
   "source": [
    "# How does user Reviews impact the apps downloaded? "
   ]
  },
  {
   "cell_type": "code",
   "execution_count": 25,
   "metadata": {},
   "outputs": [
    {
     "data": {
      "text/plain": [
       "Category  Reviews\n",
       "FAMILY    4          25\n",
       "          7          19\n",
       "          1          16\n",
       "          3          16\n",
       "          5          16\n",
       "          13         16\n",
       "          2          15\n",
       "          12         14\n",
       "          6          13\n",
       "          8          11\n",
       "dtype: int64"
      ]
     },
     "execution_count": 25,
     "metadata": {},
     "output_type": "execute_result"
    }
   ],
   "source": [
    "# Is there a relationship between Category and Reviews?\n",
    "Reviews = playstore.groupby(['Category','Reviews']).size().nlargest(10)\n",
    "Reviews"
   ]
  },
  {
   "cell_type": "code",
   "execution_count": 26,
   "metadata": {},
   "outputs": [
    {
     "data": {
      "text/plain": [
       "Category  Installs\n",
       "FAMILY    1000000     258\n",
       "          100000      247\n",
       "          10000       224\n",
       "GAME      10000000    186\n",
       "FAMILY    1000        167\n",
       "GAME      1000000     159\n",
       "FAMILY    10000000    132\n",
       "GAME      100000      111\n",
       "FAMILY    500000      104\n",
       "          5000000     103\n",
       "dtype: int64"
      ]
     },
     "execution_count": 26,
     "metadata": {},
     "output_type": "execute_result"
    }
   ],
   "source": [
    "# Is there a relationship between Category and Installs?\n",
    "Installs = playstore.groupby(['Category','Installs']).size().nlargest(10) \n",
    "Installs"
   ]
  },
  {
   "cell_type": "code",
   "execution_count": 27,
   "metadata": {},
   "outputs": [
    {
     "data": {
      "image/png": "[encoded data removed]",
      "text/plain": [
       "<Figure size 1440x2160 with 1 Axes>"
      ]
     },
     "metadata": {
      "needs_background": "light"
     },
     "output_type": "display_data"
    }
   ],
   "source": [
    "# Plotting to check the relationship between Reviews and Installs in a given Category.\n",
    "\n",
    "fvp = playstore.groupby(['Category','Reviews']).count()[['Installs']].reset_index().sort_values(by=\"Installs\",ascending = False)\n",
    "plt.figure(figsize=(20,30))\n",
    "ax=plt.subplot(221)\n",
    "plt.title(\"Reviews vs Installs\")  \n",
    "g=sns.catplot(x=\"Installs\", y=\"Category\", kind=\"bar\", ax=ax,data=fvp)\n",
    "plt.close(2) "
   ]
  },
  {
   "cell_type": "markdown",
   "metadata": {},
   "source": [
    "The chart above represents the positive relationship between Reviews and Installs. The most reviewed apps are downloaded by the majority of users. In combining reviews and installs the top three categories that perform well are Medical, Family, and Business. The results imply that users download the apps which are frequently reviewed and rated. \n",
    "\n",
    "To enumerate further, I gathered further evidence by testing the mean of Reviews and Installs (shown above) to understand if there is a relationship between the two variables. From the data gathered and plotted above it is evident that user reviews impact the downloads in the Google Play Store."
   ]
  },
  {
   "cell_type": "markdown",
   "metadata": {},
   "source": [
    "# C. Key Takeaways:\n",
    "\n",
    "Now that we have analyzed certain features in the Google Play Store, we gathered information about the best-rated app categories, the type of apps used by most users, and tested to see the relationship between app reviews and downloads.\n",
    "\n",
    "Significantly, users are actively engaged in utilizing the apps in the Google Play Store. For this project, I used user engagement metrics to analyze the data through user Ratings, Reviews, and Installs. On average the rating per app is 4.1. Users have also reviewed the app more than 200,000 times. Furthermore, users utilize more Free apps(92.6%) than the Paid apps in the Google Play Store.\n",
    "\n",
    "The insights I chose are some of the more intriguing examples but are by no means a complete account of the possible queries one might want to answer."
   ]
  },
  {
   "cell_type": "markdown",
   "metadata": {},
   "source": [
    "# D. Limitations and Future Work:\n",
    "\n",
    "- Student t-test assumes that the observations are independent, which in reality is not true because the number of installs depend on the number of apps being reviewed or rated. \n",
    "\n",
    "\n",
    "- This particular dataset from the Google Play Store analyzes only 33 categories. New categories have now been added to the Google Play Store. This may mean that there could be new features to explore further.\n",
    "\n",
    "\n",
    "- I did not analyze the app size and price aspects of the dataset in this report. For further research, I will conduct a regression analysis to get a better sense of user engagement of the Google Play Store. "
   ]
  },
  {
   "cell_type": "markdown",
   "metadata": {},
   "source": [
    "# E: Resources\n",
    "\n",
    "Below is a collection of links to documentation, tutorials, and other information I found useful during this project.\n",
    "\n",
    "- My primary database. Source of CSV retrieved through Kaggle: https://www.kaggle.com/lava18/google-play-store-apps\n",
    "\n",
    "- \"Python for Data Analysis\" by Wes McKinney. O'Reilly Publishers.\n",
    "\n",
    "- Plotting. Matplotlib is an open source Python library. Home Page.\n",
    "\n",
    "- Code formatting. Google's Python Style Guide.\n",
    "\n",
    "- Coding queries. Stack Overflow: https://stackoverflow.com/\n",
    "\n",
    "- Pandas I/O documentation : https://pandas.pydata.org/pandas-docs/stable/user_guide/io.html\n"
   ]
  }
 ],
 "metadata": {
  "kernelspec": {
   "display_name": "Python 3",
   "language": "python",
   "name": "python3"
  },
  "language_info": {
   "codemirror_mode": {
    "name": "ipython",
    "version": 3
   },
   "file_extension": ".py",
   "mimetype": "text/x-python",
   "name": "python",
   "nbconvert_exporter": "python",
   "pygments_lexer": "ipython3",
   "version": "3.5.3"
  }
 },
 "nbformat": 4,
 "nbformat_minor": 2
}
